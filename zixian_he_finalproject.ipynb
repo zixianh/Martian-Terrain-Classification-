{
 "cells": [
  {
   "cell_type": "markdown",
   "metadata": {
    "execution": {
     "iopub.execute_input": "2023-12-10T13:03:28.266142Z",
     "iopub.status.busy": "2023-12-10T13:03:28.265390Z",
     "iopub.status.idle": "2023-12-10T13:03:28.763865Z",
     "shell.execute_reply": "2023-12-10T13:03:28.762865Z",
     "shell.execute_reply.started": "2023-12-10T13:03:28.266101Z"
    }
   },
   "source": [
    "Name: zixian he\n",
    "\n",
    "Github Username: zixianh\n",
    "    \n",
    "USC ID: 6561586967"
   ]
  },
  {
   "cell_type": "code",
   "execution_count": 2,
   "metadata": {
    "execution": {
     "iopub.execute_input": "2023-12-10T13:03:28.266142Z",
     "iopub.status.busy": "2023-12-10T13:03:28.265390Z",
     "iopub.status.idle": "2023-12-10T13:03:28.763865Z",
     "shell.execute_reply": "2023-12-10T13:03:28.762865Z",
     "shell.execute_reply.started": "2023-12-10T13:03:28.266101Z"
    }
   },
   "outputs": [
    {
     "name": "stderr",
     "output_type": "stream",
     "text": [
      "/opt/conda/lib/python3.10/site-packages/scipy/__init__.py:146: UserWarning: A NumPy version >=1.16.5 and <1.23.0 is required for this version of SciPy (detected version 1.24.3\n",
      "  warnings.warn(f\"A NumPy version >={np_minversion} and <{np_maxversion}\"\n"
     ]
    }
   ],
   "source": [
    "import os\n",
    "import os.path as op\n",
    "import json\n",
    "from pathlib import Path\n",
    "import shutil\n",
    "import logging\n",
    "\n",
    "import numpy as np\n",
    "from tqdm import tqdm\n",
    "from skimage import io\n",
    "\n",
    "# Logging configuration\n",
    "logging.basicConfig(level=logging.INFO,\n",
    "                    datefmt='%H:%M:%S',\n",
    "                    format='%(asctime)s | %(levelname)-5s | %(module)-15s | %(message)s')\n",
    "\n",
    "IMAGE_SIZE = (299, 299)  # All images contained in this dataset are 299x299 (originally, to match Inception v3 input size)\n",
    "SEED = 17\n",
    "\n",
    "# Head directory containing all image subframes\n",
    "data_head_dir = Path('/kaggle/input/martian-terrain-images/data/data')\n",
    "\n",
    "# Find all subframe directories\n",
    "subdirs = [Path(subdir.stem) for subdir in data_head_dir.iterdir() if subdir.is_dir()]\n",
    "src_image_ids = ['_'.join(a_path.name.split('_')[:3]) for a_path in subdirs]"
   ]
  },
  {
   "cell_type": "markdown",
   "metadata": {},
   "source": [
    "## 1(b) ii.\n",
    "Data processing section, used to distinguish train, test, val."
   ]
  },
  {
   "cell_type": "code",
   "execution_count": 3,
   "metadata": {
    "execution": {
     "iopub.execute_input": "2023-12-10T13:03:30.783138Z",
     "iopub.status.busy": "2023-12-10T13:03:30.782399Z",
     "iopub.status.idle": "2023-12-10T13:03:30.793148Z",
     "shell.execute_reply": "2023-12-10T13:03:30.792120Z",
     "shell.execute_reply.started": "2023-12-10T13:03:30.783100Z"
    }
   },
   "outputs": [],
   "source": [
    "# Load train/val/test subframe IDs\n",
    "def load_text_ids(file_path):\n",
    "    \"\"\"Simple helper to load all lines from a text file\"\"\"\n",
    "    with open(file_path, 'r') as f:\n",
    "        lines = [line.strip() for line in f.readlines()]\n",
    "    return lines\n",
    "\n",
    "# Load the subframe names for the three data subsets\n",
    "train_ids = load_text_ids('/kaggle/input/martian-terrain-images/train_source_images.txt')\n",
    "validate_ids = load_text_ids('/kaggle/input/martian-terrain-images/val_source_images.txt')\n",
    "test_ids = load_text_ids('/kaggle/input/martian-terrain-images/test_source_images.txt')\n",
    "\n",
    "\n",
    "subdir_splits = []\n",
    "for src_id in src_image_ids:\n",
    "    if src_id in train_ids:\n",
    "        subdir_splits.append('train')\n",
    "    elif src_id in validate_ids:\n",
    "        subdir_splits.append('validate')\n",
    "    elif(src_id in test_ids):\n",
    "        subdir_splits.append('test')\n",
    "    else:\n",
    "        logging.warning(f'{src_id}: Did not find designated split in train/validate/test list.')\n",
    "        subdir_splits.append(None)"
   ]
  },
  {
   "cell_type": "markdown",
   "metadata": {},
   "source": [
    "## 1(b) iii.\n",
    "Shared image loading module, used for loading images and their corresponding labels."
   ]
  },
  {
   "cell_type": "code",
   "execution_count": 4,
   "metadata": {
    "execution": {
     "iopub.execute_input": "2023-12-10T13:03:33.567706Z",
     "iopub.status.busy": "2023-12-10T13:03:33.566824Z",
     "iopub.status.idle": "2023-12-10T13:07:40.658276Z",
     "shell.execute_reply": "2023-12-10T13:07:40.657319Z",
     "shell.execute_reply.started": "2023-12-10T13:03:33.567670Z"
    }
   },
   "outputs": [
    {
     "name": "stderr",
     "output_type": "stream",
     "text": [
      "Creating Dataset as Numpy array: 414it [04:07,  1.68it/s]\n"
     ]
    }
   ],
   "source": [
    "def load_images(dir_path):\n",
    "\n",
    "    tile_dir = dir_path / Path('tiles')\n",
    "    images = {}\n",
    "\n",
    "    for root, dirs, files in os.walk(tile_dir):\n",
    "        for file in files:\n",
    "            file = Path(file)\n",
    "            if file.suffix == '.png':\n",
    "                fp = os.path.join(root, file)\n",
    "                \n",
    "                # Extract the image class label from the filepath. This (and additional) info is also in the label jsons\n",
    "                image_class = Path(root).stem\n",
    "                \n",
    "                # Initalize this dictionary class key if needed\n",
    "                if image_class not in images.keys():\n",
    "                    images[image_class] = []\n",
    "                \n",
    "                # Load the image, save it to our list\n",
    "                img = io.imread(fp)\n",
    "                images[image_class].append(img)\n",
    "\n",
    "    # Convert list of image arrays into a per-class array\n",
    "    for key in images.keys():\n",
    "        images[key] = np.array(images[key])\n",
    "        \n",
    "    return images\n",
    "\n",
    "\n",
    "np_datasets = {\n",
    "    'train': [],\n",
    "    'validate': [],\n",
    "    'test': []\n",
    "}\n",
    "\n",
    "logging.info(f'Loading ML data from {len(subdirs)} subframes.')\n",
    "for subdir, dataset_type in tqdm(zip(subdirs, subdir_splits), desc='Creating Dataset as Numpy array'):\n",
    "    if dataset_type:  \n",
    "        full_path = data_head_dir / subdir\n",
    "        images = load_images(full_path)\n",
    "        np_datasets[dataset_type].append(images)"
   ]
  },
  {
   "cell_type": "markdown",
   "metadata": {},
   "source": [
    "## Print the structure of the datasets data."
   ]
  },
  {
   "cell_type": "code",
   "execution_count": 5,
   "metadata": {
    "execution": {
     "iopub.execute_input": "2023-12-10T13:07:46.449115Z",
     "iopub.status.busy": "2023-12-10T13:07:46.448100Z",
     "iopub.status.idle": "2023-12-10T13:07:46.454253Z",
     "shell.execute_reply": "2023-12-10T13:07:46.453256Z",
     "shell.execute_reply.started": "2023-12-10T13:07:46.449072Z"
    }
   },
   "outputs": [
    {
     "name": "stdout",
     "output_type": "stream",
     "text": [
      "(64, 299, 299)\n"
     ]
    }
   ],
   "source": [
    "# for i in range(56):\n",
    "#     try:\n",
    "#         print(np.shape(np_datasets[i]['frost']))\n",
    "#     except:\n",
    "#         print(np.shape(np_datasets[i]['background']))\n",
    "print(np.shape(np_datasets['test'][1]['background']))"
   ]
  },
  {
   "cell_type": "markdown",
   "metadata": {},
   "source": [
    "## Data preprocessing for CNN+MLP model"
   ]
  },
  {
   "cell_type": "code",
   "execution_count": 6,
   "metadata": {
    "execution": {
     "iopub.execute_input": "2023-12-10T13:07:48.434539Z",
     "iopub.status.busy": "2023-12-10T13:07:48.434206Z",
     "iopub.status.idle": "2023-12-10T13:08:01.315241Z",
     "shell.execute_reply": "2023-12-10T13:08:01.314335Z",
     "shell.execute_reply.started": "2023-12-10T13:07:48.434513Z"
    }
   },
   "outputs": [],
   "source": [
    "from tensorflow.keras.utils import to_categorical\n",
    "from sklearn.preprocessing import LabelEncoder\n",
    "import numpy as np\n",
    "\n",
    "\n",
    "def prepare_data(np_datasets, dataset_type):\n",
    "    X = []\n",
    "    y = []\n",
    "\n",
    "    # Iterate through each sub-list (corresponding to different categories).\n",
    "    for category in np_datasets[dataset_type]:\n",
    "        for label, images in category.items():\n",
    "            for image in images:\n",
    "                # Add an additional dimension to each image.\n",
    "                X.append(image)\n",
    "                y.append(label)\n",
    "\n",
    "    # Encode the labels as integers.\"\n",
    "    label_encoder = LabelEncoder()\n",
    "    y_encoded = label_encoder.fit_transform(y)\n",
    "    y_categorical = to_categorical(y_encoded, num_classes = 2)\n",
    "\n",
    "    return np.array(X), y_categorical\n",
    "\n",
    "\n",
    "X_train, y_train = prepare_data(np_datasets, 'train')\n",
    "X_val, y_val = prepare_data(np_datasets, 'validate')\n",
    "X_test, y_test = prepare_data(np_datasets, 'test')"
   ]
  },
  {
   "cell_type": "markdown",
   "metadata": {},
   "source": [
    "## Print the shape of y_test to ensure the model is performing on the binary classification datasets."
   ]
  },
  {
   "cell_type": "code",
   "execution_count": 10,
   "metadata": {
    "execution": {
     "iopub.execute_input": "2023-12-10T13:09:48.200494Z",
     "iopub.status.busy": "2023-12-10T13:09:48.200129Z",
     "iopub.status.idle": "2023-12-10T13:09:48.205522Z",
     "shell.execute_reply": "2023-12-10T13:09:48.204480Z",
     "shell.execute_reply.started": "2023-12-10T13:09:48.200463Z"
    }
   },
   "outputs": [
    {
     "name": "stdout",
     "output_type": "stream",
     "text": [
      "(12823, 2)\n",
      "1.0\n"
     ]
    }
   ],
   "source": [
    "print(np.shape(y_test))\n",
    "print(y_test[0][0])"
   ]
  },
  {
   "cell_type": "markdown",
   "metadata": {},
   "source": [
    "## Shuffle the validation dataset to ensure that gradients can descend uniformly."
   ]
  },
  {
   "cell_type": "code",
   "execution_count": 11,
   "metadata": {
    "execution": {
     "iopub.execute_input": "2023-12-10T13:11:12.867049Z",
     "iopub.status.busy": "2023-12-10T13:11:12.866351Z",
     "iopub.status.idle": "2023-12-10T13:11:13.162933Z",
     "shell.execute_reply": "2023-12-10T13:11:13.162010Z",
     "shell.execute_reply.started": "2023-12-10T13:11:12.867016Z"
    }
   },
   "outputs": [],
   "source": [
    "from sklearn.utils import shuffle\n",
    "\n",
    "\n",
    "X_val, y_val = shuffle(X_val, y_val, random_state=0)"
   ]
  },
  {
   "cell_type": "markdown",
   "metadata": {},
   "source": [
    "## (c) i.\n",
    "Image augmentation\n"
   ]
  },
  {
   "cell_type": "code",
   "execution_count": 12,
   "metadata": {
    "execution": {
     "iopub.execute_input": "2023-12-10T13:11:16.880202Z",
     "iopub.status.busy": "2023-12-10T13:11:16.879850Z",
     "iopub.status.idle": "2023-12-10T13:11:16.887105Z",
     "shell.execute_reply": "2023-12-10T13:11:16.886225Z",
     "shell.execute_reply.started": "2023-12-10T13:11:16.880173Z"
    }
   },
   "outputs": [],
   "source": [
    "from tensorflow.keras.preprocessing.image import ImageDataGenerator\n",
    "\n",
    "# Data Augmentation\n",
    "train_datagen = ImageDataGenerator(\n",
    "    rescale=1./255,\n",
    "    rotation_range=40,\n",
    "    width_shift_range=0.2,\n",
    "    height_shift_range=0.2,\n",
    "    shear_range=0.2,\n",
    "    zoom_range=0.2,\n",
    "    horizontal_flip=True,\n",
    "    fill_mode='nearest'\n",
    ")\n",
    "\n",
    "\n",
    "validation_datagen = ImageDataGenerator(rescale=1./255)\n",
    "\n",
    "\n",
    "\n",
    "# train_generator = train_datagen.flow(\n",
    "#     X_train, y_train,\n",
    "#     batch_size=32,\n",
    "#     shuffle=True\n",
    "# )\n",
    "\n",
    "# validation_generator = validation_datagen.flow(\n",
    "#     X_val, y_val,\n",
    "#     batch_size=32,\n",
    "#     shuffle=True\n",
    "# )"
   ]
  },
  {
   "cell_type": "markdown",
   "metadata": {},
   "source": [
    "## (c) ii.\n",
    "The model struture of the CNN+MLP."
   ]
  },
  {
   "cell_type": "code",
   "execution_count": 13,
   "metadata": {
    "execution": {
     "iopub.execute_input": "2023-12-10T13:11:19.861154Z",
     "iopub.status.busy": "2023-12-10T13:11:19.860796Z",
     "iopub.status.idle": "2023-12-10T13:11:22.570582Z",
     "shell.execute_reply": "2023-12-10T13:11:22.569646Z",
     "shell.execute_reply.started": "2023-12-10T13:11:19.861125Z"
    }
   },
   "outputs": [],
   "source": [
    "from tensorflow.keras.models import Sequential\n",
    "from tensorflow.keras.layers import Conv2D, MaxPooling2D, Flatten, Dense, Dropout, BatchNormalization\n",
    "from tensorflow.keras.regularizers import l2\n",
    "\n",
    "model = Sequential([\n",
    "    Conv2D(32, (3, 3), activation='relu', input_shape=(299, 299, 1), kernel_regularizer=l2(0.001)),\n",
    "    BatchNormalization(),\n",
    "    MaxPooling2D((2, 2)),\n",
    "    \n",
    "    Conv2D(64, (3, 3), activation='relu', kernel_regularizer=l2(0.001)),\n",
    "    BatchNormalization(),\n",
    "    MaxPooling2D((2, 2)),\n",
    "    \n",
    "    Conv2D(128, (3, 3), activation='relu', kernel_regularizer=l2(0.001)),\n",
    "    BatchNormalization(),\n",
    "    MaxPooling2D((2, 2)),\n",
    "    \n",
    "    Flatten(),\n",
    "    Dense(512, activation='relu', kernel_regularizer=l2(0.001)),\n",
    "    Dropout(0.3),\n",
    "    Dense(2, activation='softmax')  \n",
    "])\n",
    "\n",
    "model.compile(optimizer='adam', loss='categorical_crossentropy', metrics=['accuracy'])\n"
   ]
  },
  {
   "cell_type": "markdown",
   "metadata": {},
   "source": [
    "## Train the CNN+MLP model."
   ]
  },
  {
   "cell_type": "code",
   "execution_count": null,
   "metadata": {},
   "outputs": [
    {
     "name": "stdout",
     "output_type": "stream",
     "text": [
      "Epoch 1/20\n",
      "928/928 [==============================] - 77s 71ms/step - loss: 8.2556 - accuracy: 0.6911 - val_loss: 2.3551 - val_accuracy: 0.8928\n",
      "Epoch 2/20\n",
      "928/928 [==============================] - 63s 68ms/step - loss: 2.1881 - accuracy: 0.7136 - val_loss: 4.6206 - val_accuracy: 0.3304\n",
      "Epoch 3/20\n",
      "928/928 [==============================] - 63s 68ms/step - loss: 2.1437 - accuracy: 0.7142 - val_loss: 1.5298 - val_accuracy: 0.7797\n",
      "Epoch 4/20\n",
      "928/928 [==============================] - 63s 68ms/step - loss: 1.6105 - accuracy: 0.7391 - val_loss: 1.5823 - val_accuracy: 0.8330\n",
      "Epoch 5/20\n",
      "928/928 [==============================] - 63s 68ms/step - loss: 2.4237 - accuracy: 0.6666 - val_loss: 1.4467 - val_accuracy: 0.7996\n",
      "Epoch 6/20\n",
      "928/928 [==============================] - 63s 68ms/step - loss: 1.3302 - accuracy: 0.7440 - val_loss: 1.9392 - val_accuracy: 0.7244\n",
      "Epoch 7/20\n",
      "928/928 [==============================] - 63s 68ms/step - loss: 1.0724 - accuracy: 0.7688 - val_loss: 5.6478 - val_accuracy: 0.3784\n",
      "Epoch 8/20\n",
      "928/928 [==============================] - 63s 68ms/step - loss: 0.9546 - accuracy: 0.7755 - val_loss: 22.9117 - val_accuracy: 0.3218\n",
      "Epoch 9/20\n",
      "928/928 [==============================] - 63s 68ms/step - loss: 0.9709 - accuracy: 0.7745 - val_loss: 0.8929 - val_accuracy: 0.8221\n",
      "Epoch 10/20\n",
      "928/928 [==============================] - 63s 67ms/step - loss: 0.7578 - accuracy: 0.7975 - val_loss: 0.5617 - val_accuracy: 0.9336\n",
      "Epoch 11/20\n",
      "928/928 [==============================] - 63s 67ms/step - loss: 0.5966 - accuracy: 0.8235 - val_loss: 0.6641 - val_accuracy: 0.8275\n",
      "Epoch 12/20\n",
      "928/928 [==============================] - 63s 67ms/step - loss: 0.5655 - accuracy: 0.8238 - val_loss: 3.3860 - val_accuracy: 0.3224\n",
      "Epoch 13/20\n",
      "928/928 [==============================] - 63s 67ms/step - loss: 0.5272 - accuracy: 0.8341 - val_loss: 0.5675 - val_accuracy: 0.8418\n",
      "Epoch 14/20\n",
      "928/928 [==============================] - 63s 67ms/step - loss: 0.5394 - accuracy: 0.8246 - val_loss: 0.4946 - val_accuracy: 0.8520\n",
      "Epoch 15/20\n",
      "928/928 [==============================] - 63s 67ms/step - loss: 0.5385 - accuracy: 0.8258 - val_loss: 0.8912 - val_accuracy: 0.7625\n",
      "Epoch 16/20\n",
      "928/928 [==============================] - 62s 67ms/step - loss: 0.5324 - accuracy: 0.8299 - val_loss: 1.0851 - val_accuracy: 0.7428\n",
      "Epoch 17/20\n",
      "928/928 [==============================] - 62s 67ms/step - loss: 0.5255 - accuracy: 0.8338 - val_loss: 1.1655 - val_accuracy: 0.5724\n",
      "Epoch 18/20\n",
      "928/928 [==============================] - 62s 67ms/step - loss: 0.4928 - accuracy: 0.8482 - val_loss: 0.5795 - val_accuracy: 0.8192\n",
      "Epoch 19/20\n",
      "928/928 [==============================] - 62s 67ms/step - loss: 0.5093 - accuracy: 0.8432 - val_loss: 1.2773 - val_accuracy: 0.7010\n"
     ]
    }
   ],
   "source": [
    "from tensorflow.keras.callbacks import EarlyStopping\n",
    "\n",
    "early_stopping = EarlyStopping(monitor='val_loss', patience=5)\n",
    "\n",
    "history = model.fit(\n",
    "    X_train, y_train,\n",
    "    batch_size=32,\n",
    "    epochs=20,\n",
    "    validation_data=(X_val, y_val),\n",
    "    callbacks=[early_stopping]\n",
    ")\n",
    "\n"
   ]
  },
  {
   "cell_type": "markdown",
   "metadata": {},
   "source": [
    "## (c) iii.\n",
    "Report Precision, Recall, F1 score of the CNN+MLP model."
   ]
  },
  {
   "cell_type": "code",
   "execution_count": 18,
   "metadata": {
    "execution": {
     "iopub.execute_input": "2023-12-10T14:17:56.936893Z",
     "iopub.status.busy": "2023-12-10T14:17:56.936017Z",
     "iopub.status.idle": "2023-12-10T14:18:05.268997Z",
     "shell.execute_reply": "2023-12-10T14:18:05.268063Z",
     "shell.execute_reply.started": "2023-12-10T14:17:56.936849Z"
    }
   },
   "outputs": [
    {
     "name": "stdout",
     "output_type": "stream",
     "text": [
      "401/401 [==============================] - 6s 14ms/step\n",
      "              precision    recall  f1-score   support\n",
      "\n",
      "           0       0.58      0.96      0.73      4418\n",
      "           1       0.97      0.64      0.77      8405\n",
      "\n",
      "    accuracy                           0.75     12823\n",
      "   macro avg       0.78      0.80      0.75     12823\n",
      "weighted avg       0.84      0.75      0.75     12823\n",
      "\n"
     ]
    }
   ],
   "source": [
    "from sklearn.metrics import classification_report\n",
    "\n",
    "predictions = model.predict(X_test)\n",
    "predicted_classes = np.argmax(predictions, axis=1)\n",
    "true_classes = np.argmax(y_test, axis=1)\n",
    "\n",
    "# calculate metrics\n",
    "report = classification_report(true_classes, predicted_classes)\n",
    "print(report)"
   ]
  },
  {
   "cell_type": "markdown",
   "metadata": {},
   "source": [
    "## Output the training accuracy and loss results of the custom-built model."
   ]
  },
  {
   "cell_type": "code",
   "execution_count": null,
   "metadata": {},
   "outputs": [
    {
     "data": {
      "image/png": "[encoded data removed]",
      "text/plain": [
       "<Figure size 1200x400 with 2 Axes>"
      ]
     },
     "metadata": {},
     "output_type": "display_data"
    }
   ],
   "source": [
    "import matplotlib.pyplot as plt\n",
    "\n",
    "acc = history.history['accuracy']\n",
    "val_acc = history.history['val_accuracy']\n",
    "loss = history.history['loss']\n",
    "val_loss = history.history['val_loss']\n",
    "\n",
    "epochs = range(len(acc)) \n",
    "\n",
    "plt.figure(figsize=(12, 4))\n",
    "plt.subplot(1, 2, 1)\n",
    "plt.plot(epochs, acc, 'b', label='Training accuracy')\n",
    "plt.plot(epochs, val_acc, 'r', label='Validation accuracy')\n",
    "plt.title('Training and Validation Accuracy')\n",
    "plt.legend()\n",
    "\n",
    "plt.subplot(1, 2, 2)\n",
    "plt.plot(epochs, loss, 'b', label='Training loss')\n",
    "plt.plot(epochs, val_loss, 'r', label='Validation loss')\n",
    "plt.title('Training and Validation Loss')\n",
    "plt.legend()\n",
    "\n",
    "plt.show()\n"
   ]
  },
  {
   "cell_type": "markdown",
   "metadata": {},
   "source": [
    "## VGG16"
   ]
  },
  {
   "cell_type": "markdown",
   "metadata": {},
   "source": [
    "## (b) i."
   ]
  },
  {
   "cell_type": "code",
   "execution_count": null,
   "metadata": {},
   "outputs": [
    {
     "name": "stderr",
     "output_type": "stream",
     "text": [
      "/opt/conda/lib/python3.10/site-packages/scipy/__init__.py:146: UserWarning: A NumPy version >=1.16.5 and <1.23.0 is required for this version of SciPy (detected version 1.24.3\n",
      "  warnings.warn(f\"A NumPy version >={np_minversion} and <{np_maxversion}\"\n"
     ]
    }
   ],
   "source": [
    "import os\n",
    "import os.path as op\n",
    "import json\n",
    "from pathlib import Path\n",
    "import shutil\n",
    "import logging\n",
    "\n",
    "import numpy as np\n",
    "from tqdm import tqdm\n",
    "from skimage import io\n",
    "\n",
    "# Logging configuration\n",
    "logging.basicConfig(level=logging.INFO,\n",
    "                    datefmt='%H:%M:%S',\n",
    "                    format='%(asctime)s | %(levelname)-5s | %(module)-15s | %(message)s')\n",
    "\n",
    "IMAGE_SIZE = (299, 299)  # All images contained in this dataset are 299x299 (originally, to match Inception v3 input size)\n",
    "SEED = 17\n",
    "\n",
    "# Head directory containing all image subframes\n",
    "data_head_dir = Path('/kaggle/input/martian-terrain-images/data/data')\n",
    "\n",
    "# Find all subframe directories\n",
    "subdirs = [Path(subdir.stem) for subdir in data_head_dir.iterdir() if subdir.is_dir()]\n",
    "src_image_ids = ['_'.join(a_path.name.split('_')[:3]) for a_path in subdirs]"
   ]
  },
  {
   "cell_type": "markdown",
   "metadata": {},
   "source": [
    "## (b) ii."
   ]
  },
  {
   "cell_type": "code",
   "execution_count": null,
   "metadata": {},
   "outputs": [],
   "source": [
    "# Load the subframe names for the three data subsets\n",
    "train_ids = load_text_ids('/kaggle/input/martian-terrain-images/train_source_images.txt')\n",
    "validate_ids = load_text_ids('/kaggle/input/martian-terrain-images/val_source_images.txt')\n",
    "test_ids = load_text_ids('/kaggle/input/martian-terrain-images/test_source_images.txt')\n",
    "\n",
    "\n",
    "subdir_splits = []\n",
    "for src_id in src_image_ids:\n",
    "    if src_id in train_ids:\n",
    "        subdir_splits.append('train')\n",
    "    elif src_id in validate_ids:\n",
    "        subdir_splits.append('validate')\n",
    "    elif(src_id in test_ids):\n",
    "        subdir_splits.append('test')\n",
    "    else:\n",
    "        logging.warning(f'{src_id}: Did not find designated split in train/validate/test list.')\n",
    "        subdir_splits.append(None)"
   ]
  },
  {
   "cell_type": "markdown",
   "metadata": {},
   "source": [
    "## (b) iii."
   ]
  },
  {
   "cell_type": "code",
   "execution_count": null,
   "metadata": {},
   "outputs": [],
   "source": [
    "def load_images(dir_path):\n",
    "\n",
    "    tile_dir = dir_path / Path('tiles')\n",
    "    images = {}\n",
    "\n",
    "    for root, dirs, files in os.walk(tile_dir):\n",
    "        for file in files:\n",
    "            file = Path(file)\n",
    "            if file.suffix == '.png':\n",
    "                fp = os.path.join(root, file)\n",
    "                \n",
    "                # Extract the image class label from the filepath. This (and additional) info is also in the label jsons\n",
    "                image_class = Path(root).stem\n",
    "                \n",
    "                # Initalize this dictionary class key if needed\n",
    "                if image_class not in images.keys():\n",
    "                    images[image_class] = []\n",
    "                \n",
    "                # Load the image, save it to our list\n",
    "                img = io.imread(fp)\n",
    "                images[image_class].append(img)\n",
    "\n",
    "    # Convert list of image arrays into a per-class array\n",
    "    for key in images.keys():\n",
    "        images[key] = np.array(images[key])\n",
    "        \n",
    "    return images\n",
    "\n",
    "\n",
    "\n",
    "np_datasets = {\n",
    "    'train': [],\n",
    "    'validate': [],\n",
    "    'test': []\n",
    "}\n",
    "\n",
    "logging.info(f'Loading ML data from {len(subdirs)} subframes.')\n",
    "for subdir, dataset_type in tqdm(zip(subdirs, subdir_splits), desc='Creating Dataset as Numpy array'):\n",
    "    if dataset_type:  \n",
    "        full_path = data_head_dir / subdir\n",
    "        images = load_images(full_path)\n",
    "        np_datasets[dataset_type].append(images)"
   ]
  },
  {
   "cell_type": "markdown",
   "metadata": {},
   "source": [
    "## (d) ii."
   ]
  },
  {
   "cell_type": "code",
   "execution_count": null,
   "metadata": {},
   "outputs": [],
   "source": [
    "import numpy as np\n",
    "from sklearn.model_selection import train_test_split\n",
    "from tensorflow.keras.utils import to_categorical\n",
    "from sklearn.preprocessing import LabelEncoder\n",
    "\n",
    "\n",
    "def prepare_data(np_datasets, dataset_type, reduce_train=False):\n",
    "    X = []\n",
    "    y = []\n",
    "\n",
    "    # Iterate through each sub-list (corresponding to different categories).\n",
    "    for category in np_datasets[dataset_type]:\n",
    "        for label, images in category.items():\n",
    "            for image in images:\n",
    "                # Convert grayscale images to three-channel images.\n",
    "                image_3_channels = np.stack((image,)*3, axis=-1)\n",
    "                X.append(image_3_channels)\n",
    "                y.append(label)\n",
    "\n",
    "    # Encode the labels as integers.\n",
    "    label_encoder = LabelEncoder()\n",
    "    y_encoded = label_encoder.fit_transform(y)\n",
    "    y_categorical = to_categorical(y_encoded, num_classes=2)\n",
    "\n",
    "    X = np.array(X)\n",
    "    y = y_categorical\n",
    "\n",
    "    # If you need to reduce the training data by half.\n",
    "    if reduce_train:\n",
    "        X, _, y, _ = train_test_split(X, y, test_size=0.7, random_state=42)\n",
    "\n",
    "    return X, y\n",
    "\n",
    "# Prepare the data using the modified function.\n",
    "X_train, y_train = prepare_data(np_datasets, 'train', reduce_train=True)\n",
    "X_val, y_val = prepare_data(np_datasets, 'validate', reduce_train=True)\n",
    "X_test, y_test = prepare_data(np_datasets, 'test', reduce_train=True)\n",
    "\n",
    "from sklearn.utils import shuffle\n",
    "\n",
    "\n",
    "X_val, y_val = shuffle(X_val, y_val, random_state=0)"
   ]
  },
  {
   "cell_type": "markdown",
   "metadata": {},
   "source": [
    "\n",
    "## (d) iii."
   ]
  },
  {
   "cell_type": "code",
   "execution_count": null,
   "metadata": {},
   "outputs": [],
   "source": [
    "import numpy as np\n",
    "from tensorflow.keras.applications import VGG16\n",
    "from tensorflow.keras import models\n",
    "from tensorflow.keras import layers\n",
    "from tensorflow.keras.preprocessing.image import ImageDataGenerator\n",
    "from tensorflow.keras.callbacks import EarlyStopping\n",
    "from sklearn.metrics import classification_report\n",
    "from tensorflow.keras.optimizers import Adam\n",
    "import matplotlib.pyplot as plt\n",
    "\n",
    "np_datasets = []\n",
    "\n",
    "base_model = VGG16(weights='imagenet', include_top=False, input_shape=(299, 299, 3))\n",
    "\n",
    "# froze base model\n",
    "base_model.trainable = False\n",
    "\n",
    "model = models.Sequential()\n",
    "model.add(base_model)\n",
    "model.add(layers.Flatten())\n",
    "model.add(layers.BatchNormalization())\n",
    "model.add(layers.Dense(256, activation='relu'))\n",
    "model.add(layers.Dropout(0.3))\n",
    "model.add(layers.Dense(2, activation='softmax'))  # 2 is the class numbers"
   ]
  },
  {
   "cell_type": "markdown",
   "metadata": {},
   "source": [
    "## (d) iv."
   ]
  },
  {
   "cell_type": "code",
   "execution_count": null,
   "metadata": {},
   "outputs": [],
   "source": [
    "train_datagen = ImageDataGenerator(\n",
    "    rescale=1./255,\n",
    "    rotation_range=40,\n",
    "    width_shift_range=0.2,\n",
    "    height_shift_range=0.2,\n",
    "    shear_range=0.2,\n",
    "    zoom_range=0.2,\n",
    "    horizontal_flip=True,\n",
    "    fill_mode='nearest'\n",
    ")\n",
    "\n",
    "\n",
    "validation_datagen = ImageDataGenerator(rescale=1./255)\n",
    "\n",
    "\n",
    "model.compile(optimizer=Adam(), loss='categorical_crossentropy', metrics=['accuracy'])\n",
    "\n",
    "early_stopping = EarlyStopping(monitor='val_loss', patience=20)"
   ]
  },
  {
   "cell_type": "markdown",
   "metadata": {},
   "source": [
    "## (d) v."
   ]
  },
  {
   "cell_type": "code",
   "execution_count": null,
   "metadata": {},
   "outputs": [
    {
     "name": "stderr",
     "output_type": "stream",
     "text": [
      "/opt/conda/lib/python3.10/site-packages/scipy/__init__.py:146: UserWarning: A NumPy version >=1.16.5 and <1.23.0 is required for this version of SciPy (detected version 1.24.3\n",
      "  warnings.warn(f\"A NumPy version >={np_minversion} and <{np_maxversion}\"\n",
      "Creating Dataset as Numpy array: 414it [07:22,  1.07s/it]\n"
     ]
    },
    {
     "name": "stdout",
     "output_type": "stream",
     "text": [
      "Downloading data from https://storage.googleapis.com/tensorflow/keras-applications/vgg16/vgg16_weights_tf_dim_ordering_tf_kernels_notop.h5\n",
      "58889256/58889256 [==============================] - 2s 0us/step\n",
      "Epoch 1/50\n",
      "1780/1780 [==============================] - 187s 101ms/step - loss: 0.8159 - accuracy: 0.7384 - val_loss: 37.6316 - val_accuracy: 0.6824\n",
      "Epoch 2/50\n",
      "1780/1780 [==============================] - 173s 97ms/step - loss: 0.5281 - accuracy: 0.7670 - val_loss: 20.3167 - val_accuracy: 0.6827\n",
      "Epoch 3/50\n",
      "1780/1780 [==============================] - 174s 98ms/step - loss: 0.5229 - accuracy: 0.7734 - val_loss: 52.5126 - val_accuracy: 0.6827\n",
      "Epoch 4/50\n",
      "1780/1780 [==============================] - 178s 100ms/step - loss: 0.7088 - accuracy: 0.7629 - val_loss: 1.3191 - val_accuracy: 0.3191\n",
      "Epoch 5/50\n",
      "1780/1780 [==============================] - 177s 99ms/step - loss: 0.6431 - accuracy: 0.7835 - val_loss: 26.6645 - val_accuracy: 0.6827\n",
      "Epoch 6/50\n",
      "1780/1780 [==============================] - 178s 100ms/step - loss: 0.6560 - accuracy: 0.7759 - val_loss: 6.5455 - val_accuracy: 0.3173\n",
      "Epoch 7/50\n",
      "1780/1780 [==============================] - 178s 100ms/step - loss: 0.5769 - accuracy: 0.7694 - val_loss: 232.9017 - val_accuracy: 0.6827\n",
      "Epoch 8/50\n",
      "1780/1780 [==============================] - 179s 101ms/step - loss: 0.6025 - accuracy: 0.7927 - val_loss: 131.7631 - val_accuracy: 0.6827\n",
      "Epoch 9/50\n",
      "1780/1780 [==============================] - 179s 100ms/step - loss: 0.6244 - accuracy: 0.7984 - val_loss: 171.9042 - val_accuracy: 0.3173\n",
      "Epoch 10/50\n",
      "1780/1780 [==============================] - 178s 100ms/step - loss: 1.0230 - accuracy: 0.7567 - val_loss: 9.4295 - val_accuracy: 0.4263\n",
      "Epoch 11/50\n",
      "1780/1780 [==============================] - 177s 100ms/step - loss: 0.6827 - accuracy: 0.7803 - val_loss: 752.5762 - val_accuracy: 0.3173\n",
      "Epoch 12/50\n",
      "1780/1780 [==============================] - 181s 102ms/step - loss: 0.7477 - accuracy: 0.7895 - val_loss: 7.0607 - val_accuracy: 0.6827\n",
      "Epoch 13/50\n",
      "1780/1780 [==============================] - 178s 100ms/step - loss: 0.6258 - accuracy: 0.7713 - val_loss: 53.6903 - val_accuracy: 0.6827\n",
      "Epoch 14/50\n",
      "1780/1780 [==============================] - 176s 99ms/step - loss: 0.6704 - accuracy: 0.7622 - val_loss: 100.8532 - val_accuracy: 0.6827\n",
      "121/121 [==============================] - 14s 118ms/step\n",
      "              precision    recall  f1-score   support\n",
      "\n",
      "           0       0.34      1.00      0.50      1293\n",
      "           1       1.00      0.01      0.01      2553\n",
      "\n",
      "    accuracy                           0.34      3846\n",
      "   macro avg       0.67      0.50      0.26      3846\n",
      "weighted avg       0.78      0.34      0.18      3846\n",
      "\n"
     ]
    },
    {
     "data": {
      "image/png": "[encoded data removed]",
      "text/plain": [
       "<Figure size 1200x400 with 2 Axes>"
      ]
     },
     "metadata": {},
     "output_type": "display_data"
    }
   ],
   "source": [
    "history = model.fit(\n",
    "    train_datagen.flow(X_train, y_train),\n",
    "    batch_size=32,\n",
    "    steps_per_epoch=len(X_train) // 5,\n",
    "    epochs=20,\n",
    "    validation_data=validation_datagen.flow(X_val, y_val),\n",
    "    callbacks=[early_stopping]\n",
    ")\n",
    "\n",
    "\n",
    "predictions = model.predict(X_test)\n",
    "predicted_classes = np.argmax(predictions, axis=1)\n",
    "true_classes = np.argmax(y_test, axis=1)\n",
    "\n",
    "\n",
    "report = classification_report(true_classes, predicted_classes)\n",
    "print(report)\n",
    "\n",
    "\n",
    "acc = history.history['accuracy']\n",
    "val_acc = history.history['val_accuracy']\n",
    "loss = history.history['loss']\n",
    "val_loss = history.history['val_loss']\n",
    "\n",
    "epochs = range(len(acc))\n",
    "\n",
    "plt.figure(figsize=(12, 4))\n",
    "plt.subplot(1, 2, 1)\n",
    "plt.plot(epochs, acc, 'b', label='Training accuracy')\n",
    "plt.plot(epochs, val_acc, 'r', label='Validation accuracy')\n",
    "plt.title('Training and Validation Accuracy')\n",
    "plt.legend()\n",
    "\n",
    "plt.subplot(1, 2, 2)\n",
    "plt.plot(epochs, loss, 'b', label='Training loss')\n",
    "plt.plot(epochs, val_loss, 'r', label='Validation loss')\n",
    "plt.title('Training and Validation Loss')\n",
    "plt.legend()\n",
    "\n",
    "plt.show()\n"
   ]
  },
  {
   "cell_type": "markdown",
   "metadata": {},
   "source": [
    "## Compare the results of CNN + MLP model with transfer learning.\n",
    "\n",
    "### CNN+MLP Model\n",
    "- **Accuracy**: 75% \n",
    "- **Precision**: \n",
    "  - Class 0: 58%\n",
    "  - Class 1: 97%\n",
    "  - Higher precision for class 1 suggests the model predicts more reliable predictions on this class. However, the predictions of class 0 performs not as good as the predictions of class 1, this could be due to the model overfitting on class 1. Another significant reason is data imbalance, meaning the number of samples in class 1 is disproportionate to those in class 0. This imbalance leads to a shift in the data distribution on the x-axis, causing the model to be more biased towards predicting data for class 1.\n",
    "- **Recall**: \n",
    "  - Class 0: 96%\n",
    "  - Class 1: 64%\n",
    "  - The accuracy for class 0 is very low, but the recall is quite high. There are three main reasons for this situation:\n",
    "\n",
    "1. **Data Imbalance**: The amount of data for class 0 is significantly less than that for class 1.\n",
    "2. **Model Bias**: During the training process, the model is more sensitive to class 0, which represents the Background. This issue is related to the MLP (Multilayer Perceptron) part of the model.\n",
    "3. **Inadequate CNN Training**: The CNN (Convolutional Neural Network) part of the model is unable to extract features specific to Frost, leading to the model's inability to distinguish between Frost and Background during training.\n",
    "\n",
    "- **F1-Score**: \n",
    "  - Class 0: 73%\n",
    "  - Class 1: 77%\n",
    "  - In general, it is balanced.\n",
    "\n",
    "### VGG16 Model\n",
    "- **Accuracy**: 34% \n",
    "  - The model did not show improved performance beyond the 14th epoch, so early stopping was implemented.\n",
    "- **Precision**: \n",
    "  - Class 0: 34%\n",
    "  - Class 1: 100%\n",
    "  - Results tend to be similar to the CNN+MLP model, and this is due to the imbalance in the dataset, with a low number of samples for the class 0.\n",
    "- **Recall**: \n",
    "  - Class 0: 100%\n",
    "  - Class 1: 1%\n",
    "  - The model almost always classifies samples as class 0.\n",
    "- **F1-Score**: \n",
    "  - Class 0: 51%\n",
    "  - Class 1: 2%\n",
    "\n",
    "### Summary\n",
    "- The **CNN+MLP model** shows a more balanced and effective performance overall with higher accuracy, precision, and F1 scores.\n",
    "- The **VGG16 model** appears to have prediction problems in recognizing class 1. Because of the frozen of the CNN layers, the VGG16 model cannot learn more features from the Frost or Background images, but actually the features of Frost or Background images are hard to learn. Furthermore, during the pretraining phase of VGG16, it has not encountered such images, it was trained on imagenet (because i chose the imagenet weights) which can result in its inability to extract the features of the images in the CNN layers of the Frost or Background images.\n"
   ]
  }
 ],
 "metadata": {
  "kaggle": {
   "accelerator": "gpu",
   "dataSources": [
    {
     "datasetId": 4129499,
     "sourceId": 7155431,
     "sourceType": "datasetVersion"
    }
   ],
   "dockerImageVersionId": 30615,
   "isGpuEnabled": true,
   "isInternetEnabled": true,
   "language": "python",
   "sourceType": "notebook"
  },
  "kernelspec": {
   "display_name": "Python 3 (ipykernel)",
   "language": "python",
   "name": "python3"
  },
  "language_info": {
   "codemirror_mode": {
    "name": "ipython",
    "version": 3
   },
   "file_extension": ".py",
   "mimetype": "text/x-python",
   "name": "python",
   "nbconvert_exporter": "python",
   "pygments_lexer": "ipython3",
   "version": "3.8.18"
  }
 },
 "nbformat": 4,
 "nbformat_minor": 4
}
